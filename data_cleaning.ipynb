{
 "cells": [
  {
   "cell_type": "code",
   "execution_count": 1,
   "metadata": {
    "collapsed": true
   },
   "outputs": [],
   "source": [
    "import pandas as pd\n",
    "from pandas import DataFrame, Series"
   ]
  },
  {
   "cell_type": "code",
   "execution_count": null,
   "metadata": {
    "collapsed": true
   },
   "outputs": [],
   "source": []
  },
  {
   "cell_type": "code",
   "execution_count": null,
   "metadata": {
    "collapsed": false
   },
   "outputs": [],
   "source": []
  },
  {
   "cell_type": "code",
   "execution_count": 2,
   "metadata": {
    "collapsed": false
   },
   "outputs": [],
   "source": [
    "# Stack Overflow: Getting Google Spreadsheet CSV into A Pandas Dataframe\n",
    "# http://stackoverflow.com/questions/19611729/getting-google-spreadsheet-csv-into-a-pandas-dataframe\n",
    "\n",
    "prez = pd.read_csv('https://docs.google.com/spreadsheets/d/' +\n",
    "            '1bqxK6GCYehFj8jICfbDVoje1LuOvo-W_2UjkZXhDN1M' +\n",
    "            '/export?format=csv&id'\n",
    "           , index_col = 0)"
   ]
  },
  {
   "cell_type": "code",
   "execution_count": 3,
   "metadata": {
    "collapsed": false
   },
   "outputs": [
    {
     "data": {
      "text/html": [
       "<div>\n",
       "<table border=\"1\" class=\"dataframe\">\n",
       "  <thead>\n",
       "    <tr style=\"text-align: right;\">\n",
       "      <th></th>\n",
       "      <th>Full Name</th>\n",
       "      <th>DOB</th>\n",
       "      <th>State</th>\n",
       "      <th>Term of Office</th>\n",
       "      <th>Party</th>\n",
       "      <th>Previous Office</th>\n",
       "    </tr>\n",
       "    <tr>\n",
       "      <th>Number</th>\n",
       "      <th></th>\n",
       "      <th></th>\n",
       "      <th></th>\n",
       "      <th></th>\n",
       "      <th></th>\n",
       "      <th></th>\n",
       "    </tr>\n",
       "  </thead>\n",
       "  <tbody>\n",
       "    <tr>\n",
       "      <th>1</th>\n",
       "      <td>George Washington</td>\n",
       "      <td>February 22, 1732 - December 14, 1799\\n (Aged 67)</td>\n",
       "      <td>Virginia</td>\n",
       "      <td>April 30, 1789\\n -\\n March 4, 1797</td>\n",
       "      <td>Non-partisan</td>\n",
       "      <td>Commander-in-Chief\\n of the\\n Continental Army...</td>\n",
       "    </tr>\n",
       "    <tr>\n",
       "      <th>2</th>\n",
       "      <td>John Adams</td>\n",
       "      <td>October 30, 1735 - July 4, 1826\\n (aged 90)</td>\n",
       "      <td>Massachusetts</td>\n",
       "      <td>March 4, 1797\\n  - \\n March 4, 1801</td>\n",
       "      <td>Federalist</td>\n",
       "      <td>1st\\n Vice President of the United States</td>\n",
       "    </tr>\n",
       "    <tr>\n",
       "      <th>3</th>\n",
       "      <td>Thomas Jefferson</td>\n",
       "      <td>April 13, 1743 - July 4, 1826\\n (aged 83)</td>\n",
       "      <td>Virginia</td>\n",
       "      <td>March 4, 1801\\n  - \\n March 4, 1809</td>\n",
       "      <td>Democratic-\\n Republican</td>\n",
       "      <td>2nd\\n Vice President of the United States</td>\n",
       "    </tr>\n",
       "    <tr>\n",
       "      <th>4</th>\n",
       "      <td>James Madison</td>\n",
       "      <td>March 16, 1751 - June 28, 1836\\n (aged 85)</td>\n",
       "      <td>Virginia</td>\n",
       "      <td>March 4, 1809\\n  - \\n March 4, 1817</td>\n",
       "      <td>Democratic-\\n Republican</td>\n",
       "      <td>5th\\n United States Secretary of State\\n (1801...</td>\n",
       "    </tr>\n",
       "    <tr>\n",
       "      <th>5</th>\n",
       "      <td>James Monroe</td>\n",
       "      <td>April 28, 1758 - July 4, 1831\\n (aged 73)</td>\n",
       "      <td>Virginia</td>\n",
       "      <td>March 4, 1817\\n  - \\n March 4, 1825</td>\n",
       "      <td>Democratic-\\n Republican</td>\n",
       "      <td>7th\\n United States Secretary of State\\n (1811...</td>\n",
       "    </tr>\n",
       "  </tbody>\n",
       "</table>\n",
       "</div>"
      ],
      "text/plain": [
       "                Full Name                                                DOB  \\\n",
       "Number                                                                         \n",
       "1       George Washington  February 22, 1732 - December 14, 1799\\n (Aged 67)   \n",
       "2              John Adams        October 30, 1735 - July 4, 1826\\n (aged 90)   \n",
       "3        Thomas Jefferson          April 13, 1743 - July 4, 1826\\n (aged 83)   \n",
       "4           James Madison         March 16, 1751 - June 28, 1836\\n (aged 85)   \n",
       "5            James Monroe          April 28, 1758 - July 4, 1831\\n (aged 73)   \n",
       "\n",
       "                State                       Term of Office  \\\n",
       "Number                                                       \n",
       "1            Virginia   April 30, 1789\\n -\\n March 4, 1797   \n",
       "2       Massachusetts  March 4, 1797\\n  - \\n March 4, 1801   \n",
       "3            Virginia  March 4, 1801\\n  - \\n March 4, 1809   \n",
       "4            Virginia  March 4, 1809\\n  - \\n March 4, 1817   \n",
       "5            Virginia  March 4, 1817\\n  - \\n March 4, 1825   \n",
       "\n",
       "                           Party  \\\n",
       "Number                             \n",
       "1                   Non-partisan   \n",
       "2                     Federalist   \n",
       "3       Democratic-\\n Republican   \n",
       "4       Democratic-\\n Republican   \n",
       "5       Democratic-\\n Republican   \n",
       "\n",
       "                                          Previous Office  \n",
       "Number                                                     \n",
       "1       Commander-in-Chief\\n of the\\n Continental Army...  \n",
       "2               1st\\n Vice President of the United States  \n",
       "3               2nd\\n Vice President of the United States  \n",
       "4       5th\\n United States Secretary of State\\n (1801...  \n",
       "5       7th\\n United States Secretary of State\\n (1811...  "
      ]
     },
     "execution_count": 3,
     "metadata": {},
     "output_type": "execute_result"
    }
   ],
   "source": [
    "prez.head()"
   ]
  },
  {
   "cell_type": "code",
   "execution_count": 64,
   "metadata": {
    "collapsed": false
   },
   "outputs": [],
   "source": [
    "gdp_year = pd.read_excel('http://www.bea.gov/national/xls/gdplev.xls' \n",
    "                    ,'Sheet1', index_col=0, usecols=[0,1,2]\n",
    "                    ,skiprows=5, skip_blank_lines=True, skip_footer=189)\n",
    "gdp_year.dropna(axis=0, how='all',inplace=True)    "
   ]
  },
  {
   "cell_type": "code",
   "execution_count": 35,
   "metadata": {
    "collapsed": false
   },
   "outputs": [
    {
     "data": {
      "text/html": [
       "<div>\n",
       "<table border=\"1\" class=\"dataframe\">\n",
       "  <thead>\n",
       "    <tr style=\"text-align: right;\">\n",
       "      <th></th>\n",
       "      <th>Annual_avg</th>\n",
       "    </tr>\n",
       "    <tr>\n",
       "      <th>Year</th>\n",
       "      <th></th>\n",
       "    </tr>\n",
       "  </thead>\n",
       "  <tbody>\n",
       "    <tr>\n",
       "      <th>1913</th>\n",
       "      <td>9.9</td>\n",
       "    </tr>\n",
       "    <tr>\n",
       "      <th>1914</th>\n",
       "      <td>10.0</td>\n",
       "    </tr>\n",
       "    <tr>\n",
       "      <th>1915</th>\n",
       "      <td>10.1</td>\n",
       "    </tr>\n",
       "    <tr>\n",
       "      <th>1916</th>\n",
       "      <td>10.9</td>\n",
       "    </tr>\n",
       "    <tr>\n",
       "      <th>1917</th>\n",
       "      <td>12.8</td>\n",
       "    </tr>\n",
       "  </tbody>\n",
       "</table>\n",
       "</div>"
      ],
      "text/plain": [
       "      Annual_avg\n",
       "Year            \n",
       "1913         9.9\n",
       "1914        10.0\n",
       "1915        10.1\n",
       "1916        10.9\n",
       "1917        12.8"
      ]
     },
     "execution_count": 35,
     "metadata": {},
     "output_type": "execute_result"
    }
   ],
   "source": [
    "cpi = pd.read_table('CPI.txt', usecols=[0,3], index_col=0\n",
    "                    ,delim_whitespace=True,skip_blank_lines=True)\n",
    "cpi.head()"
   ]
  },
  {
   "cell_type": "code",
   "execution_count": 6,
   "metadata": {
    "collapsed": false
   },
   "outputs": [],
   "source": [
    "unemp_rate = pd.read_csv('unemployment_rate.txt',index_col='Year')"
   ]
  },
  {
   "cell_type": "code",
   "execution_count": 7,
   "metadata": {
    "collapsed": false
   },
   "outputs": [],
   "source": [
    "# calculate mean for year\n",
    "unemp_rate['yearly_mean'] = unemp_rate.mean(axis=1)"
   ]
  },
  {
   "cell_type": "code",
   "execution_count": 36,
   "metadata": {
    "collapsed": false
   },
   "outputs": [
    {
     "data": {
      "text/html": [
       "<div>\n",
       "<table border=\"1\" class=\"dataframe\">\n",
       "  <thead>\n",
       "    <tr style=\"text-align: right;\">\n",
       "      <th></th>\n",
       "      <th>Jan</th>\n",
       "      <th>Feb</th>\n",
       "      <th>Mar</th>\n",
       "      <th>Apr</th>\n",
       "      <th>May</th>\n",
       "      <th>Jun</th>\n",
       "      <th>Jul</th>\n",
       "      <th>Aug</th>\n",
       "      <th>Sep</th>\n",
       "      <th>Oct</th>\n",
       "      <th>Nov</th>\n",
       "      <th>Dec</th>\n",
       "      <th>Annual</th>\n",
       "      <th>yearly_mean</th>\n",
       "    </tr>\n",
       "    <tr>\n",
       "      <th>Year</th>\n",
       "      <th></th>\n",
       "      <th></th>\n",
       "      <th></th>\n",
       "      <th></th>\n",
       "      <th></th>\n",
       "      <th></th>\n",
       "      <th></th>\n",
       "      <th></th>\n",
       "      <th></th>\n",
       "      <th></th>\n",
       "      <th></th>\n",
       "      <th></th>\n",
       "      <th></th>\n",
       "      <th></th>\n",
       "    </tr>\n",
       "  </thead>\n",
       "  <tbody>\n",
       "    <tr>\n",
       "      <th>1948</th>\n",
       "      <td>3.4</td>\n",
       "      <td>3.8</td>\n",
       "      <td>4.0</td>\n",
       "      <td>3.9</td>\n",
       "      <td>3.5</td>\n",
       "      <td>3.6</td>\n",
       "      <td>3.6</td>\n",
       "      <td>3.9</td>\n",
       "      <td>3.8</td>\n",
       "      <td>3.7</td>\n",
       "      <td>3.8</td>\n",
       "      <td>4.0</td>\n",
       "      <td></td>\n",
       "      <td>3.4</td>\n",
       "    </tr>\n",
       "    <tr>\n",
       "      <th>1949</th>\n",
       "      <td>4.3</td>\n",
       "      <td>4.7</td>\n",
       "      <td>5.0</td>\n",
       "      <td>5.3</td>\n",
       "      <td>6.1</td>\n",
       "      <td>6.2</td>\n",
       "      <td>6.7</td>\n",
       "      <td>6.8</td>\n",
       "      <td>6.6</td>\n",
       "      <td>7.9</td>\n",
       "      <td>6.4</td>\n",
       "      <td>6.6</td>\n",
       "      <td></td>\n",
       "      <td>4.3</td>\n",
       "    </tr>\n",
       "    <tr>\n",
       "      <th>1950</th>\n",
       "      <td>6.5</td>\n",
       "      <td>6.4</td>\n",
       "      <td>6.3</td>\n",
       "      <td>5.8</td>\n",
       "      <td>5.5</td>\n",
       "      <td>5.4</td>\n",
       "      <td>5.0</td>\n",
       "      <td>4.5</td>\n",
       "      <td>4.4</td>\n",
       "      <td>4.2</td>\n",
       "      <td>4.2</td>\n",
       "      <td>4.3</td>\n",
       "      <td></td>\n",
       "      <td>6.5</td>\n",
       "    </tr>\n",
       "    <tr>\n",
       "      <th>1951</th>\n",
       "      <td>3.7</td>\n",
       "      <td>3.4</td>\n",
       "      <td>3.4</td>\n",
       "      <td>3.1</td>\n",
       "      <td>3.0</td>\n",
       "      <td>3.2</td>\n",
       "      <td>3.1</td>\n",
       "      <td>3.1</td>\n",
       "      <td>3.3</td>\n",
       "      <td>3.5</td>\n",
       "      <td>3.5</td>\n",
       "      <td>3.1</td>\n",
       "      <td></td>\n",
       "      <td>3.7</td>\n",
       "    </tr>\n",
       "    <tr>\n",
       "      <th>1952</th>\n",
       "      <td>3.2</td>\n",
       "      <td>3.1</td>\n",
       "      <td>2.9</td>\n",
       "      <td>2.9</td>\n",
       "      <td>3.0</td>\n",
       "      <td>3.0</td>\n",
       "      <td>3.2</td>\n",
       "      <td>3.4</td>\n",
       "      <td>3.1</td>\n",
       "      <td>3.0</td>\n",
       "      <td>2.8</td>\n",
       "      <td>2.7</td>\n",
       "      <td></td>\n",
       "      <td>3.2</td>\n",
       "    </tr>\n",
       "  </tbody>\n",
       "</table>\n",
       "</div>"
      ],
      "text/plain": [
       "      Jan  Feb  Mar  Apr  May  Jun  Jul  Aug  Sep  Oct  Nov  Dec Annual  \\\n",
       "Year                                                                      \n",
       "1948  3.4  3.8  4.0  3.9  3.5  3.6  3.6  3.9  3.8  3.7  3.8  4.0          \n",
       "1949  4.3  4.7  5.0  5.3  6.1  6.2  6.7  6.8  6.6  7.9  6.4  6.6          \n",
       "1950  6.5  6.4  6.3  5.8  5.5  5.4  5.0  4.5  4.4  4.2  4.2  4.3          \n",
       "1951  3.7  3.4  3.4  3.1  3.0  3.2  3.1  3.1  3.3  3.5  3.5  3.1          \n",
       "1952  3.2  3.1  2.9  2.9  3.0  3.0  3.2  3.4  3.1  3.0  2.8  2.7          \n",
       "\n",
       "      yearly_mean  \n",
       "Year               \n",
       "1948          3.4  \n",
       "1949          4.3  \n",
       "1950          6.5  \n",
       "1951          3.7  \n",
       "1952          3.2  "
      ]
     },
     "execution_count": 36,
     "metadata": {},
     "output_type": "execute_result"
    }
   ],
   "source": [
    "unemp_rate.head()"
   ]
  },
  {
   "cell_type": "code",
   "execution_count": 8,
   "metadata": {
    "collapsed": false
   },
   "outputs": [],
   "source": [
    "trade = pd.read_excel('gands.xls', skiprows=6, index_col=0, usecols=range(0,10)\n",
    "             ,skipfooter=4, header=None,skip_blank_lines=True)"
   ]
  },
  {
   "cell_type": "code",
   "execution_count": 9,
   "metadata": {
    "collapsed": false
   },
   "outputs": [],
   "source": [
    "trade.columns = [['Balance']*3 + ['Exports']*3 + ['Imports']*3\n",
    "                 , ['Total','Goods BOP','Services']*3]"
   ]
  },
  {
   "cell_type": "code",
   "execution_count": 10,
   "metadata": {
    "collapsed": false
   },
   "outputs": [],
   "source": [
    "trade.index.name = 'Year'"
   ]
  },
  {
   "cell_type": "code",
   "execution_count": 12,
   "metadata": {
    "collapsed": false
   },
   "outputs": [
    {
     "data": {
      "text/html": [
       "<div>\n",
       "<table border=\"1\" class=\"dataframe\">\n",
       "  <thead>\n",
       "    <tr>\n",
       "      <th></th>\n",
       "      <th colspan=\"3\" halign=\"left\">Balance</th>\n",
       "      <th colspan=\"3\" halign=\"left\">Exports</th>\n",
       "      <th colspan=\"3\" halign=\"left\">Imports</th>\n",
       "    </tr>\n",
       "    <tr>\n",
       "      <th></th>\n",
       "      <th>Total</th>\n",
       "      <th>Goods BOP</th>\n",
       "      <th>Services</th>\n",
       "      <th>Total</th>\n",
       "      <th>Goods BOP</th>\n",
       "      <th>Services</th>\n",
       "      <th>Total</th>\n",
       "      <th>Goods BOP</th>\n",
       "      <th>Services</th>\n",
       "    </tr>\n",
       "    <tr>\n",
       "      <th>Year</th>\n",
       "      <th></th>\n",
       "      <th></th>\n",
       "      <th></th>\n",
       "      <th></th>\n",
       "      <th></th>\n",
       "      <th></th>\n",
       "      <th></th>\n",
       "      <th></th>\n",
       "      <th></th>\n",
       "    </tr>\n",
       "  </thead>\n",
       "  <tbody>\n",
       "    <tr>\n",
       "      <th>1960</th>\n",
       "      <td>3508</td>\n",
       "      <td>4892</td>\n",
       "      <td>-1384</td>\n",
       "      <td>25940</td>\n",
       "      <td>19650</td>\n",
       "      <td>6290</td>\n",
       "      <td>22432</td>\n",
       "      <td>14758</td>\n",
       "      <td>7674</td>\n",
       "    </tr>\n",
       "    <tr>\n",
       "      <th>1961</th>\n",
       "      <td>4195</td>\n",
       "      <td>5571</td>\n",
       "      <td>-1376</td>\n",
       "      <td>26403</td>\n",
       "      <td>20108</td>\n",
       "      <td>6295</td>\n",
       "      <td>22208</td>\n",
       "      <td>14537</td>\n",
       "      <td>7671</td>\n",
       "    </tr>\n",
       "    <tr>\n",
       "      <th>1962</th>\n",
       "      <td>3370</td>\n",
       "      <td>4521</td>\n",
       "      <td>-1151</td>\n",
       "      <td>27722</td>\n",
       "      <td>20781</td>\n",
       "      <td>6941</td>\n",
       "      <td>24352</td>\n",
       "      <td>16260</td>\n",
       "      <td>8092</td>\n",
       "    </tr>\n",
       "    <tr>\n",
       "      <th>1963</th>\n",
       "      <td>4210</td>\n",
       "      <td>5224</td>\n",
       "      <td>-1014</td>\n",
       "      <td>29620</td>\n",
       "      <td>22272</td>\n",
       "      <td>7348</td>\n",
       "      <td>25410</td>\n",
       "      <td>17048</td>\n",
       "      <td>8362</td>\n",
       "    </tr>\n",
       "    <tr>\n",
       "      <th>1964</th>\n",
       "      <td>6022</td>\n",
       "      <td>6801</td>\n",
       "      <td>-779</td>\n",
       "      <td>33341</td>\n",
       "      <td>25501</td>\n",
       "      <td>7840</td>\n",
       "      <td>27319</td>\n",
       "      <td>18700</td>\n",
       "      <td>8619</td>\n",
       "    </tr>\n",
       "  </tbody>\n",
       "</table>\n",
       "</div>"
      ],
      "text/plain": [
       "     Balance                    Exports                    Imports            \\\n",
       "       Total Goods BOP Services   Total Goods BOP Services   Total Goods BOP   \n",
       "Year                                                                           \n",
       "1960    3508      4892    -1384   25940     19650     6290   22432     14758   \n",
       "1961    4195      5571    -1376   26403     20108     6295   22208     14537   \n",
       "1962    3370      4521    -1151   27722     20781     6941   24352     16260   \n",
       "1963    4210      5224    -1014   29620     22272     7348   25410     17048   \n",
       "1964    6022      6801     -779   33341     25501     7840   27319     18700   \n",
       "\n",
       "               \n",
       "     Services  \n",
       "Year           \n",
       "1960     7674  \n",
       "1961     7671  \n",
       "1962     8092  \n",
       "1963     8362  \n",
       "1964     8619  "
      ]
     },
     "execution_count": 12,
     "metadata": {},
     "output_type": "execute_result"
    }
   ],
   "source": [
    "trade.head()"
   ]
  },
  {
   "cell_type": "code",
   "execution_count": null,
   "metadata": {
    "collapsed": false
   },
   "outputs": [],
   "source": [
    "# first year of trade is 1960\n",
    "# gdp 1929\n",
    "# cpi 1913\n",
    "# unemployment rate 1948\n"
   ]
  },
  {
   "cell_type": "code",
   "execution_count": 53,
   "metadata": {
    "collapsed": false,
    "scrolled": true
   },
   "outputs": [],
   "source": [
    "trade_tot = trade.loc[:,trade.columns.get_level_values(1)=='Total']"
   ]
  },
  {
   "cell_type": "code",
   "execution_count": 65,
   "metadata": {
    "collapsed": true
   },
   "outputs": [],
   "source": [
    "frames = [trade_tot, unemp_rate.yearly_mean, cpi,gdp_year]"
   ]
  },
  {
   "cell_type": "code",
   "execution_count": 68,
   "metadata": {
    "collapsed": false
   },
   "outputs": [],
   "source": [
    "cleaned = pd.concat(frames, axis = 1)"
   ]
  },
  {
   "cell_type": "code",
   "execution_count": null,
   "metadata": {
    "collapsed": true
   },
   "outputs": [],
   "source": []
  }
 ],
 "metadata": {
  "kernelspec": {
   "display_name": "Python 2",
   "language": "python",
   "name": "python2"
  },
  "language_info": {
   "codemirror_mode": {
    "name": "ipython",
    "version": 2
   },
   "file_extension": ".py",
   "mimetype": "text/x-python",
   "name": "python",
   "nbconvert_exporter": "python",
   "pygments_lexer": "ipython2",
   "version": "2.7.10"
  }
 },
 "nbformat": 4,
 "nbformat_minor": 0
}
